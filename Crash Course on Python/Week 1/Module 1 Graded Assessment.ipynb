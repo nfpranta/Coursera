{
 "cells": [
  {
   "cell_type": "code",
   "execution_count": 1,
   "metadata": {},
   "outputs": [
    {
     "name": "stdout",
     "output_type": "stream",
     "text": [
      "Automating with Python is fun!\n"
     ]
    }
   ],
   "source": [
    "#Write a Python script that outputs \"Automating with Python is fun!\" to the screen.\n",
    "print(\"Automating with Python is fun!\")"
   ]
  },
  {
   "cell_type": "code",
   "execution_count": 2,
   "metadata": {},
   "outputs": [
    {
     "name": "stdout",
     "output_type": "stream",
     "text": [
      "Yellow is the color of sunshine\n"
     ]
    }
   ],
   "source": [
    "#Fill in the blanks so that the code prints \"Yellow is the color of sunshine\".\n",
    "color = \"Yellow\"\n",
    "thing = \"sunshine\"\n",
    "print(color + \" is the color of \" + thing)"
   ]
  },
  {
   "cell_type": "code",
   "execution_count": 4,
   "metadata": {},
   "outputs": [
    {
     "name": "stdout",
     "output_type": "stream",
     "text": [
      "604800\n"
     ]
    }
   ],
   "source": [
    "#Keeping in mind there are 86400 seconds per day, write a program that calculates how many seconds there are in a week,\n",
    "#if a week is 7 days. Print the result on the screen.\n",
    "\n",
    "#Note: Your result should be in the format of just a number, not a sentence.\n",
    "secInMin = 60\n",
    "secInHour = 60 * secInMin\n",
    "secInDay = 24 * secInHour\n",
    "secInWeek = 7 * secInDay\n",
    "print(secInWeek)"
   ]
  },
  {
   "cell_type": "code",
   "execution_count": 5,
   "metadata": {},
   "outputs": [
    {
     "name": "stdout",
     "output_type": "stream",
     "text": [
      "308915776\n"
     ]
    }
   ],
   "source": [
    "#Use Python to calculate how many different passwords can be formed with 6 lower case English letters. For a 1 letter password,\n",
    "#there would be 26 possibilities. For a 2 letter password, each letter is independent of the other, so there would be 26 times\n",
    "#26 possibilities. Using this information, print the amount of possible passwords that can be formed with 6 letters.\n",
    "a=26**6\n",
    "print(a)"
   ]
  },
  {
   "cell_type": "code",
   "execution_count": 6,
   "metadata": {},
   "outputs": [
    {
     "name": "stdout",
     "output_type": "stream",
     "text": [
      "33554432.0\n"
     ]
    }
   ],
   "source": [
    "#Most hard drives are divided into sectors of 512 bytes each. Our disk has a size of 16 GB. Fill in the blank to calculate\n",
    "#how many sectors the disk has.\n",
    "\n",
    "#Note: Your result should be in the format of just a number, not a sentence.\n",
    "disk_size = 16*1024*1024*1024\n",
    "sector_size = 512\n",
    "sector_amount = disk_size/sector_size\n",
    "\n",
    "print(sector_amount)"
   ]
  },
  {
   "cell_type": "code",
   "execution_count": null,
   "metadata": {},
   "outputs": [],
   "source": []
  }
 ],
 "metadata": {
  "kernelspec": {
   "display_name": "Python 3",
   "language": "python",
   "name": "python3"
  },
  "language_info": {
   "codemirror_mode": {
    "name": "ipython",
    "version": 3
   },
   "file_extension": ".py",
   "mimetype": "text/x-python",
   "name": "python",
   "nbconvert_exporter": "python",
   "pygments_lexer": "ipython3",
   "version": "3.7.4"
  }
 },
 "nbformat": 4,
 "nbformat_minor": 4
}
