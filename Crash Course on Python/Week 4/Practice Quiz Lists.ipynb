{
 "cells": [
  {
   "cell_type": "code",
   "execution_count": 1,
   "metadata": {},
   "outputs": [
    {
     "name": "stdout",
     "output_type": "stream",
     "text": [
      "['program.c', 'stdio.h', 'sample.h', 'a.out', 'math.h', 'hpp.out']\n"
     ]
    }
   ],
   "source": [
    "#Given a list of filenames, we want to rename all the files with extension hpp to the extension h. To do this, we would like to\n",
    "#generate a new list called newfilenames, consisting of the new filenames. Fill in the blanks in the code using any of the \n",
    "#methods you’ve learned thus far, like a for loop or a list comprehension.\n",
    "\n",
    "filenames = [\"program.c\", \"stdio.hpp\", \"sample.hpp\", \"a.out\", \"math.hpp\", \"hpp.out\"]\n",
    "# Generate newfilenames as a list containing the new filenames\n",
    "newfilenames=[]\n",
    "# using as many lines of code as your chosen method requires.\n",
    "for file in filenames:\n",
    "  if \".hpp\" not in file:\n",
    "    newfilenames.append(file)\n",
    "  else:\n",
    "    y=file.find(\"hpp\") #newfilenames.append(file.replace(\"hpp\",\"h\"))\n",
    "    x=file[0:y]+\"h\"\n",
    "    newfilenames.append(x)\n",
    "   # newfilenames.append(file.replace(\"hpp\",\"h\"))\n",
    "print(newfilenames) \n",
    "# Should be [\"program.c\", \"stdio.h\", \"sample.h\", \"a.out\", \"math.h\", \"hpp.out\"]\n",
    "\n"
   ]
  },
  {
   "cell_type": "code",
   "execution_count": 2,
   "metadata": {},
   "outputs": [
    {
     "name": "stdout",
     "output_type": "stream",
     "text": [
      "ellohay owhay reaay ouyay \n",
      "rogrammingpay niay ythonpay siay unfay \n"
     ]
    }
   ],
   "source": [
    "#Let's create a function that turns text into pig latin: a simple text transformation that modifies each word moving the first\n",
    "#character to the end and appending \"ay\" to the end. For example, python ends up as ythonpay.\n",
    "\n",
    "def pig_latin(text):\n",
    "  say = \"\"\n",
    "  # Separate the text into words\n",
    "  words = text.split()\n",
    "  for word in words:\n",
    "    # Create the pig latin word and add it to the list\n",
    "    say+=word[1:]+word[0]+\"ay\"+\" \"\n",
    "    # Turn the list back into a phrase\n",
    "  return say\n",
    "\t\t\n",
    "print(pig_latin(\"hello how are you\")) # Should be \"ellohay owhay reaay ouyay\"\n",
    "print(pig_latin(\"programming in python is fun\")) # Should be \"rogrammingpay niay ythonpay siay unfay\""
   ]
  },
  {
   "cell_type": "code",
   "execution_count": 3,
   "metadata": {},
   "outputs": [
    {
     "name": "stdout",
     "output_type": "stream",
     "text": [
      "rwxr-xr-x\n",
      "rw-r--r--\n",
      "rwxr-x---\n",
      "rw-------\n"
     ]
    }
   ],
   "source": [
    "\"\"\"\n",
    "The permissions of a file in a Linux system are split into three sets of three permissions: read, write, and execute for the \n",
    "owner, group, and others. Each of the three values can be expressed as an octal number summing each permission, with 4 \n",
    "corresponding to read, 2 to write, and 1 to execute. Or it can be written with a string using the letters r, w, and x or - when\n",
    "the permission is not granted. For example: 640 is read/write for the owner, read for the group, and no permissions for the \n",
    "others; converted to a string, it would be: \"rw-r-----\" 755 is read/write/execute for the owner, and read/execute for group and\n",
    "others; converted to a string, it would be: \"rwxr-xr-x\" Fill in the blanks to make the code convert a permission in octal format\n",
    "into a string format.\n",
    "\"\"\"\n",
    "\n",
    "def octal_to_string(octal):\n",
    "    result = \"\"\n",
    "    value_letters = [(4,\"r\"),(2,\"w\"),(1,\"x\")]\n",
    "    # Iterate over each of the digits in octal\n",
    "    for digits in [int(n) for n in str(octal)]:\n",
    "        # Check for each of the permissions values\n",
    "        for value, letter in value_letters:\n",
    "            if digits >= value:\n",
    "                result += letter\n",
    "                digits-= value\n",
    "            else:\n",
    "                result+=\"-\"\n",
    "    return result\n",
    "    \n",
    "print(octal_to_string(755)) # Should be rwxr-xr-x\n",
    "print(octal_to_string(644)) # Should be rw-r--r--\n",
    "print(octal_to_string(750)) # Should be rwxr-x---\n",
    "print(octal_to_string(600)) # Should be rw-------"
   ]
  },
  {
   "cell_type": "code",
   "execution_count": 4,
   "metadata": {},
   "outputs": [
    {
     "name": "stdout",
     "output_type": "stream",
     "text": [
      "Marketing: Mike,Karen,Jake,Tasha\n",
      "Engineering: Kim,Jay,Tom\n",
      "Users: \n"
     ]
    }
   ],
   "source": [
    "#The group_list function accepts a group name and a list of members, and returns a string with the format: group_name: member1,\n",
    "#member2, … For example, group_list(\"g\", [\"a\",\"b\",\"c\"]) returns \"g: a, b, c\". Fill in the gaps in this function to do that.\n",
    "\n",
    "def group_list(group, users):\n",
    "  members = \",\".join(users)\n",
    "  return group+\": \"+members\n",
    "\n",
    "print(group_list(\"Marketing\", [\"Mike\", \"Karen\", \"Jake\", \"Tasha\"])) # Should be \"Marketing: Mike, Karen, Jake, Tasha\"\n",
    "print(group_list(\"Engineering\", [\"Kim\", \"Jay\", \"Tom\"])) # Should be \"Engineering: Kim, Jay, Tom\"\n",
    "print(group_list(\"Users\", \"\")) # Should be \"Users:\""
   ]
  },
  {
   "cell_type": "code",
   "execution_count": 5,
   "metadata": {},
   "outputs": [
    {
     "name": "stdout",
     "output_type": "stream",
     "text": [
      "Ken is 30 years old and works as Chef.\n",
      "Pat is 35 years old and works as Lawyer.\n",
      "Amanda is 25 years old and works as Engineer.\n"
     ]
    }
   ],
   "source": [
    "\"\"\"\n",
    "The guest_list function reads in a list of tuples with the name, age, and profession of each party guest, and prints \n",
    "the sentence \"Guest is X years old and works as __.\" for each one. For example, guest_list(('Ken', 30, \"Chef\"), \n",
    "(\"Pat\", 35, 'Lawyer'), ('Amanda', 25, \"Engineer\")) should print out: Ken is 30 years old and works as Chef. Pat is 35 years \n",
    "old and works as Lawyer. Amanda is 25 years old and works as Engineer. Fill in the gaps in this function to do that.\n",
    "\"\"\"\n",
    "\n",
    "def guest_list(guests):\n",
    "\tfor guest in guests:\n",
    "\t (name,age,profession)=guest\n",
    "\t print(\"{} is {} years old and works as {}.\".format(name,age,profession))\n",
    "\n",
    "guest_list([('Ken', 30, \"Chef\"), (\"Pat\", 35, 'Lawyer'), ('Amanda', 25, \"Engineer\")])\n"
   ]
  }
 ],
 "metadata": {
  "kernelspec": {
   "display_name": "Python 3",
   "language": "python",
   "name": "python3"
  },
  "language_info": {
   "codemirror_mode": {
    "name": "ipython",
    "version": 3
   },
   "file_extension": ".py",
   "mimetype": "text/x-python",
   "name": "python",
   "nbconvert_exporter": "python",
   "pygments_lexer": "ipython3",
   "version": "3.7.4"
  }
 },
 "nbformat": 4,
 "nbformat_minor": 4
}
