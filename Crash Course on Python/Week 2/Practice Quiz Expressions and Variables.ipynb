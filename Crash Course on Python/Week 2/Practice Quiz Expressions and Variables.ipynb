{
 "cells": [
  {
   "cell_type": "code",
   "execution_count": 1,
   "metadata": {},
   "outputs": [
    {
     "name": "stdout",
     "output_type": "stream",
     "text": [
      "Each person needs to pay:27.186\n"
     ]
    }
   ],
   "source": [
    "\"\"\"\n",
    "In this scenario, two friends are eating dinner at a restaurant. The bill comes in the amount of 47.28 dollars. The friends\n",
    "decide to split the bill evenly between them, after adding 15% tip for the service. Calculate the tip, the total amount to pay,\n",
    "and each friend's share, then output a message saying \"Each person needs to pay: \" followed by the resulting number.\n",
    "\"\"\"\n",
    "\n",
    "bill = 47.28\n",
    "tip = bill *(15/100)\n",
    "total = bill + tip\n",
    "share = total/2 \n",
    "print(\"Each person needs to pay:\"+str(share))"
   ]
  },
  {
   "cell_type": "code",
   "execution_count": 2,
   "metadata": {},
   "outputs": [
    {
     "name": "stdout",
     "output_type": "stream",
     "text": [
      "1.0\n"
     ]
    }
   ],
   "source": [
    "#This code is supposed to take two numbers, divide one by another so that the result is equal to 1, and display the result \n",
    "#on the screen. Unfortunately, there is an error in the code. Find the error and fix it, so that the output is correct.\n",
    "\n",
    "numerator = 10\n",
    "denominator = 10\n",
    "result = numerator / denominator\n",
    "print(result)"
   ]
  },
  {
   "cell_type": "code",
   "execution_count": null,
   "metadata": {},
   "outputs": [],
   "source": [
    "#Combine the variables to display the sentence \"How do you like Python so far?\"\n",
    "\n"
   ]
  }
 ],
 "metadata": {
  "kernelspec": {
   "display_name": "Python 3",
   "language": "python",
   "name": "python3"
  },
  "language_info": {
   "codemirror_mode": {
    "name": "ipython",
    "version": 3
   },
   "file_extension": ".py",
   "mimetype": "text/x-python",
   "name": "python",
   "nbconvert_exporter": "python",
   "pygments_lexer": "ipython3",
   "version": "3.7.4"
  }
 },
 "nbformat": 4,
 "nbformat_minor": 4
}
